{
  "nbformat": 4,
  "nbformat_minor": 0,
  "metadata": {
    "colab": {
      "name": "Predictions.ipynb",
      "provenance": []
    },
    "kernelspec": {
      "name": "python3",
      "display_name": "Python 3"
    }
  },
  "cells": [
    {
      "cell_type": "code",
      "metadata": {
        "id": "SvZjuP5Agtrk",
        "colab_type": "code",
        "colab": {
          "base_uri": "https://localhost:8080/",
          "height": 278
        },
        "outputId": "d24fb869-141e-4ddc-9a60-08565d499a58"
      },
      "source": [
        "import matplotlib.pyplot as plt\n",
        "import numpy as np\n",
        "import pandas as pd\n",
        "import seaborn as sns\n",
        "import pandas_datareader as web\n",
        "\n",
        "df = web.DataReader('GOOG', data_source = 'yahoo', start = \"2012-01-01\", end = '2019-12-17')\n",
        "df.head()"
      ],
      "execution_count": 1,
      "outputs": [
        {
          "output_type": "stream",
          "text": [
            "/usr/local/lib/python3.6/dist-packages/statsmodels/tools/_testing.py:19: FutureWarning: pandas.util.testing is deprecated. Use the functions in the public API at pandas.testing instead.\n",
            "  import pandas.util.testing as tm\n"
          ],
          "name": "stderr"
        },
        {
          "output_type": "execute_result",
          "data": {
            "text/html": [
              "<div>\n",
              "<style scoped>\n",
              "    .dataframe tbody tr th:only-of-type {\n",
              "        vertical-align: middle;\n",
              "    }\n",
              "\n",
              "    .dataframe tbody tr th {\n",
              "        vertical-align: top;\n",
              "    }\n",
              "\n",
              "    .dataframe thead th {\n",
              "        text-align: right;\n",
              "    }\n",
              "</style>\n",
              "<table border=\"1\" class=\"dataframe\">\n",
              "  <thead>\n",
              "    <tr style=\"text-align: right;\">\n",
              "      <th></th>\n",
              "      <th>High</th>\n",
              "      <th>Low</th>\n",
              "      <th>Open</th>\n",
              "      <th>Close</th>\n",
              "      <th>Volume</th>\n",
              "      <th>Adj Close</th>\n",
              "    </tr>\n",
              "    <tr>\n",
              "      <th>Date</th>\n",
              "      <th></th>\n",
              "      <th></th>\n",
              "      <th></th>\n",
              "      <th></th>\n",
              "      <th></th>\n",
              "      <th></th>\n",
              "    </tr>\n",
              "  </thead>\n",
              "  <tbody>\n",
              "    <tr>\n",
              "      <th>2012-01-03</th>\n",
              "      <td>332.827484</td>\n",
              "      <td>324.966949</td>\n",
              "      <td>325.250885</td>\n",
              "      <td>331.462585</td>\n",
              "      <td>7380500.0</td>\n",
              "      <td>331.462585</td>\n",
              "    </tr>\n",
              "    <tr>\n",
              "      <th>2012-01-04</th>\n",
              "      <td>333.873566</td>\n",
              "      <td>329.076538</td>\n",
              "      <td>331.273315</td>\n",
              "      <td>332.892242</td>\n",
              "      <td>5749400.0</td>\n",
              "      <td>332.892242</td>\n",
              "    </tr>\n",
              "    <tr>\n",
              "      <th>2012-01-05</th>\n",
              "      <td>330.745300</td>\n",
              "      <td>326.889740</td>\n",
              "      <td>329.828735</td>\n",
              "      <td>328.274536</td>\n",
              "      <td>6590300.0</td>\n",
              "      <td>328.274536</td>\n",
              "    </tr>\n",
              "    <tr>\n",
              "      <th>2012-01-06</th>\n",
              "      <td>328.767700</td>\n",
              "      <td>323.681763</td>\n",
              "      <td>328.344299</td>\n",
              "      <td>323.796326</td>\n",
              "      <td>5405900.0</td>\n",
              "      <td>323.796326</td>\n",
              "    </tr>\n",
              "    <tr>\n",
              "      <th>2012-01-09</th>\n",
              "      <td>322.291962</td>\n",
              "      <td>309.455078</td>\n",
              "      <td>322.042908</td>\n",
              "      <td>310.067780</td>\n",
              "      <td>11688800.0</td>\n",
              "      <td>310.067780</td>\n",
              "    </tr>\n",
              "  </tbody>\n",
              "</table>\n",
              "</div>"
            ],
            "text/plain": [
              "                  High         Low  ...      Volume   Adj Close\n",
              "Date                                ...                        \n",
              "2012-01-03  332.827484  324.966949  ...   7380500.0  331.462585\n",
              "2012-01-04  333.873566  329.076538  ...   5749400.0  332.892242\n",
              "2012-01-05  330.745300  326.889740  ...   6590300.0  328.274536\n",
              "2012-01-06  328.767700  323.681763  ...   5405900.0  323.796326\n",
              "2012-01-09  322.291962  309.455078  ...  11688800.0  310.067780\n",
              "\n",
              "[5 rows x 6 columns]"
            ]
          },
          "metadata": {
            "tags": []
          },
          "execution_count": 1
        }
      ]
    },
    {
      "cell_type": "code",
      "metadata": {
        "id": "px6wjT-7kPpl",
        "colab_type": "code",
        "colab": {}
      },
      "source": [
        "#Generally upwards growth from graphs (NOW DELETED THEm)\n",
        "data = df.filter(['Close'])\n",
        "dataset = data.values\n",
        "\n",
        "train_length = int(len(dataset) * 0.8)\n",
        "\n",
        "from sklearn.preprocessing import MinMaxScaler\n",
        "\n",
        "minmaxscaler = MinMaxScaler()\n",
        "scaled_data = minmaxscaler.fit_transform(dataset)\n",
        "\n",
        "train_data = scaled_data[:train_length, :]\n",
        "\n",
        "x_train = []\n",
        "y_train = []\n",
        "\n",
        "for i in range(60, train_length):\n",
        "  x_train.append(train_data[i-60:i])\n",
        "  y_train.append(train_data[i, 0])\n",
        "\n",
        "x_train, y_train = np.asarray(x_train).astype(np.float32), np.asarray(y_train).astype(np.float32)\n"
      ],
      "execution_count": 2,
      "outputs": []
    },
    {
      "cell_type": "code",
      "metadata": {
        "id": "-wr7lIZtm_0E",
        "colab_type": "code",
        "colab": {
          "base_uri": "https://localhost:8080/",
          "height": 50
        },
        "outputId": "6904abaa-5da5-4562-c301-25aa0faeb1ec"
      },
      "source": [
        "from keras.layers import Dense, Dropout, LSTM\n",
        "from keras.models import Sequential\n",
        "\n",
        "model = Sequential()\n",
        "model.add(LSTM(50, return_sequences=True, input_shape = (x_train.shape[1], 1)))\n",
        "model.add(LSTM(50, return_sequences=False))\n",
        "model.add(Dense(25))\n",
        "model.add(Dense(1))\n",
        "\n",
        "model.compile(optimizer = \"adam\", loss = \"mse\", metrics = [\"accuracy\"])\n",
        "\n",
        "model.fit(x_train, y_train, batch_size = 1, epochs = 1)\n"
      ],
      "execution_count": 3,
      "outputs": [
        {
          "output_type": "stream",
          "text": [
            "1542/1542 [==============================] - 32s 21ms/step - loss: 0.0014 - accuracy: 6.4851e-04\n"
          ],
          "name": "stdout"
        },
        {
          "output_type": "execute_result",
          "data": {
            "text/plain": [
              "<tensorflow.python.keras.callbacks.History at 0x7f2fd1e0eb38>"
            ]
          },
          "metadata": {
            "tags": []
          },
          "execution_count": 3
        }
      ]
    },
    {
      "cell_type": "code",
      "metadata": {
        "id": "G5zgBnuooUK0",
        "colab_type": "code",
        "colab": {
          "base_uri": "https://localhost:8080/",
          "height": 279
        },
        "outputId": "9727489b-7710-45c4-ee2e-9154383d5608"
      },
      "source": [
        "test_data = scaled_data[train_length - 60:]\n",
        "\n",
        "x_test = []\n",
        "y_test = dataset[train_length:, :]\n",
        "\n",
        "for i in range(60, len(test_data)):\n",
        "  x_test.append(test_data[i-60:i])\n",
        "\n",
        "x_test = np.asarray(x_test).astype(np.float32)"
      ],
      "execution_count": 4,
      "outputs": [
        {
          "output_type": "error",
          "ename": "ValueError",
          "evalue": "ignored",
          "traceback": [
            "\u001b[0;31m---------------------------------------------------------------------------\u001b[0m",
            "\u001b[0;31mTypeError\u001b[0m                                 Traceback (most recent call last)",
            "\u001b[0;31mTypeError\u001b[0m: only size-1 arrays can be converted to Python scalars",
            "\nThe above exception was the direct cause of the following exception:\n",
            "\u001b[0;31mValueError\u001b[0m                                Traceback (most recent call last)",
            "\u001b[0;32m<ipython-input-4-f8571734c97f>\u001b[0m in \u001b[0;36m<module>\u001b[0;34m()\u001b[0m\n\u001b[1;32m      7\u001b[0m   \u001b[0mx_test\u001b[0m\u001b[0;34m.\u001b[0m\u001b[0mappend\u001b[0m\u001b[0;34m(\u001b[0m\u001b[0mtest_data\u001b[0m\u001b[0;34m[\u001b[0m\u001b[0mi\u001b[0m\u001b[0;34m-\u001b[0m\u001b[0;36m60\u001b[0m\u001b[0;34m:\u001b[0m\u001b[0mi\u001b[0m\u001b[0;34m]\u001b[0m\u001b[0;34m)\u001b[0m\u001b[0;34m\u001b[0m\u001b[0;34m\u001b[0m\u001b[0m\n\u001b[1;32m      8\u001b[0m \u001b[0;34m\u001b[0m\u001b[0m\n\u001b[0;32m----> 9\u001b[0;31m \u001b[0mx_test\u001b[0m \u001b[0;34m=\u001b[0m \u001b[0mnp\u001b[0m\u001b[0;34m.\u001b[0m\u001b[0masarray\u001b[0m\u001b[0;34m(\u001b[0m\u001b[0mx_test\u001b[0m\u001b[0;34m)\u001b[0m\u001b[0;34m.\u001b[0m\u001b[0mastype\u001b[0m\u001b[0;34m(\u001b[0m\u001b[0mnp\u001b[0m\u001b[0;34m.\u001b[0m\u001b[0mfloat32\u001b[0m\u001b[0;34m)\u001b[0m\u001b[0;34m\u001b[0m\u001b[0;34m\u001b[0m\u001b[0m\n\u001b[0m",
            "\u001b[0;31mValueError\u001b[0m: setting an array element with a sequence."
          ]
        }
      ]
    },
    {
      "cell_type": "code",
      "metadata": {
        "id": "AcxJBuw8pBDq",
        "colab_type": "code",
        "colab": {}
      },
      "source": [
        "predictions = model.predict(x_test)\n",
        "predictions = minmaxscaler.inverse_transform(predictions)"
      ],
      "execution_count": null,
      "outputs": []
    },
    {
      "cell_type": "code",
      "metadata": {
        "id": "09qtDRq-pQnf",
        "colab_type": "code",
        "colab": {}
      },
      "source": [
        "train = data[:train_length]\n",
        "valid = data[train_length:]\n",
        "valid[\"Predictions\"] = predictions\n",
        "\n",
        "plt.figure(figsize = (20,10))\n",
        "plt.title(\"Google Stock Price Prediction vs Actual Value\")\n",
        "plt.xlabel(\"Date\")\n",
        "plt.ylabel(\"Close Price USD ($)\")\n",
        "plt.plot(train[\"Close\"])\n",
        "plt.plot(valid[\"Close\"])\n",
        "plt.plot(valid[\"Predictions\"])\n",
        "plt.show()"
      ],
      "execution_count": null,
      "outputs": []
    }
  ]
}